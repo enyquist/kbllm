{
 "cells": [
  {
   "cell_type": "code",
   "execution_count": 1,
   "metadata": {},
   "outputs": [],
   "source": [
    "# standard libraries\n",
    "import json\n",
    "from typing import List\n",
    "from pathlib import Path\n",
    "\n",
    "# third party libraries\n",
    "import mgclient\n",
    "\n",
    "# kbllm libraries\n",
    "from kbllm.base import Patient, Encounter"
   ]
  },
  {
   "cell_type": "code",
   "execution_count": 2,
   "metadata": {},
   "outputs": [],
   "source": [
    "ROOT_DIR = Path(\"scratch.ipynb\").resolve().parent\n",
    "DATA_DIR = ROOT_DIR / \"data\""
   ]
  },
  {
   "cell_type": "code",
   "execution_count": 8,
   "metadata": {},
   "outputs": [],
   "source": [
    "def insert_into_memgraph(patients: List[Patient]):\n",
    "    \"\"\"Insert patient and encounters into Memgraph.\"\"\"\n",
    "    # Create a connection object\n",
    "    connection = mgclient.connect(host='127.0.0.1', port=7687)\n",
    "    cursor = connection.cursor()\n",
    "\n",
    "    for patient in patients:\n",
    "        # Insert the patient\n",
    "        cursor.execute(f\"\"\"\n",
    "            CREATE (p:Patient {{name: '{patient.name}', MRN: '{patient.MRN}'}})\n",
    "            RETURN id(p) AS patient_id\n",
    "        \"\"\")\n",
    "        patient_id = cursor.fetchone()[0]\n",
    "\n",
    "        for encounter in patient.encounters:\n",
    "            # Insert the encounter and link it to the patient\n",
    "            cursor.execute(f\"\"\"\n",
    "                MATCH (p:Patient) WHERE id(p) = {patient_id}\n",
    "                CREATE (e:Encounter {{date: '{encounter.date}', diagnosis: '{encounter.diagnosis}'}})\n",
    "                CREATE (p)-[:HAD_ENCOUNTER]->(e)\n",
    "                RETURN id(e) AS encounter_id\n",
    "            \"\"\")\n",
    "            encounter_id = cursor.fetchone()[0]\n",
    "\n",
    "            for test in encounter.tests:\n",
    "                # Insert each test and link it to the encounter\n",
    "                cursor.execute(f\"\"\"\n",
    "                    MATCH (e:Encounter) WHERE id(e) = {encounter_id}\n",
    "                    CREATE (t:Test {{name: '{test.name}', result: '{test.result}'}})\n",
    "                    CREATE (e)-[:HAD_TEST]->(t)\n",
    "                \"\"\")\n",
    "\n",
    "    # Commit the transaction\n",
    "    connection.commit()\n",
    "    connection.close()"
   ]
  },
  {
   "cell_type": "code",
   "execution_count": 9,
   "metadata": {},
   "outputs": [],
   "source": [
    "# Load data\n",
    "with open(DATA_DIR / \"data.json\", \"r\") as f:\n",
    "    data = json.load(f)"
   ]
  },
  {
   "cell_type": "code",
   "execution_count": 10,
   "metadata": {},
   "outputs": [],
   "source": [
    "# Parse data\n",
    "patients: List[Patient] = [Patient(**patient) for patient in data[\"patients\"]]"
   ]
  },
  {
   "cell_type": "code",
   "execution_count": 11,
   "metadata": {},
   "outputs": [],
   "source": [
    " # Example usage\n",
    "insert_into_memgraph(patients)"
   ]
  },
  {
   "cell_type": "code",
   "execution_count": null,
   "metadata": {},
   "outputs": [],
   "source": []
  }
 ],
 "metadata": {
  "kernelspec": {
   "display_name": "venv",
   "language": "python",
   "name": "python3"
  },
  "language_info": {
   "codemirror_mode": {
    "name": "ipython",
    "version": 3
   },
   "file_extension": ".py",
   "mimetype": "text/x-python",
   "name": "python",
   "nbconvert_exporter": "python",
   "pygments_lexer": "ipython3",
   "version": "3.10.12"
  },
  "orig_nbformat": 4
 },
 "nbformat": 4,
 "nbformat_minor": 2
}
