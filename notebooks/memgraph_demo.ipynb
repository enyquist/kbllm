{
 "cells": [
  {
   "cell_type": "markdown",
   "metadata": {},
   "source": [
    "## Overview\n",
    "\n",
    "This notebook will demonstrate how to query [Memgraph](https://memgraph.com/) populated with notional patient data. See `data/` with sample data.\n",
    "\n",
    "## Background\n",
    "\n",
    "In the realm of healthcare, every patient interaction forms the cornerstone of understanding their health journey. These interactions, termed as 'encounters', capture a snapshot of a patient's health status, the treatments provided, and the medical decisions taken during that particular point in time. By focusing on encounters, our knowledge base emphasizes:\n",
    "\n",
    "* **Holistic Patient Journey**: Each encounter acts as a milestone, allowing us to piece together a complete and continuous narrative of a patient's healthcare experience.\n",
    "\n",
    "* **Contextual Understanding**: An encounter-centric approach ensures that every diagnosis, test, or treatment is framed within the context of a specific patient interaction. This aids in understanding the rationale behind medical decisions and ensures that no data is viewed in isolation.\n",
    "\n",
    "* **Scalability and Flexibility**: As healthcare systems grow and evolve, new types of encounters or details may emerge. Centering our database around encounters ensures that we can seamlessly integrate these new data points without disturbing the existing structure.\n",
    "\n",
    "In essence, by adopting an encounter-centric design, we ensure that our database is not just a collection of data points but a dynamic representation of patient stories, told one encounter at a time.\n",
    "\n",
    "## What kind of Questions can we ask of this Knowledge Base?\n",
    "\n",
    "Some questions we can ask include:\n",
    "\n",
    "* What diagnoses has a patient had?\n",
    "* How many patients have had the same diagnoses?\n",
    "* Which providers diagnosed those patients?\n",
    "\n",
    "Let us walk through one-by-one to see how we can do this programmatically."
   ]
  },
  {
   "cell_type": "code",
   "execution_count": 34,
   "metadata": {},
   "outputs": [],
   "source": [
    "# standard libraries\n",
    "from typing import List, Callable, Tuple, Any\n",
    "\n",
    "# third party libraries\n",
    "from mgclient import Cursor\n",
    "\n",
    "# kbllm libraries\n",
    "from kbllm.kb.context import MemgraphConnection\n",
    "\n",
    "\n",
    "@MemgraphConnection\n",
    "def query(cursor: Cursor, query: str, transform: Callable[[Tuple], Any]) -> List[Any]:\n",
    "    \"\"\"\n",
    "    Executes a provided Cypher query and processes the results using a transformation function.\n",
    "\n",
    "    Args:\n",
    "        query (str): The Cypher query string to execute.\n",
    "        transform (Callable[[Tuple], Any]): A function to process the raw results from the database.\n",
    "\n",
    "    Returns:\n",
    "        List[Any]: A list of processed results.\n",
    "    \"\"\"\n",
    "    cursor.execute(query)\n",
    "    results: Tuple = cursor.fetchall()\n",
    "\n",
    "    return [transform(result) for result in results]"
   ]
  },
  {
   "cell_type": "code",
   "execution_count": 35,
   "metadata": {},
   "outputs": [],
   "source": [
    "# kbllm libraries\n",
    "from kbllm.kb.base import Diagnosis\n",
    "\n",
    "\n",
    "def transform_to_diagnosis(result: Tuple) -> Diagnosis:\n",
    "    \"\"\"\n",
    "    Transforms a tuple of results into a Diagnosis object.\n",
    "\n",
    "    Args:\n",
    "        result (Tuple): Raw results from the database.\n",
    "\n",
    "    Returns:\n",
    "        Diagnosis: Diagnosis object.\n",
    "    \"\"\"\n",
    "    return Diagnosis(name=result[0], ICD10=result[1])"
   ]
  },
  {
   "cell_type": "code",
   "execution_count": 36,
   "metadata": {},
   "outputs": [],
   "source": [
    "patient_name = \"Alice Smith\"\n",
    "\n",
    "query_string = f\"\"\"\n",
    "    MATCH (p:Patient {{name: \"{patient_name}\"}})-[:HAD_ENCOUNTER]->(e:Encounter)-[:HAS_DIAGNOSIS]->(d:Diagnosis)\n",
    "    RETURN d.name AS Diagnosis_Name, d.ICD10 AS Diagnosis_Code\n",
    "\"\"\""
   ]
  },
  {
   "cell_type": "code",
   "execution_count": 37,
   "metadata": {},
   "outputs": [
    {
     "name": "stdout",
     "output_type": "stream",
     "text": [
      "[Diagnosis(name='Hypertension', ICD10='I10'), Diagnosis(name='Eczema', ICD10='L30.9')]\n"
     ]
    }
   ],
   "source": [
    "alice_diagnoses = query(query_string, transform_to_diagnosis)\n",
    "print(alice_diagnoses)"
   ]
  },
  {
   "cell_type": "markdown",
   "metadata": {},
   "source": [
    "Now we can programmatically interact with the diagnoses associated with Alice Smith.\n",
    "\n",
    "Now let's explore how many patients have a given diagnosis."
   ]
  },
  {
   "cell_type": "code",
   "execution_count": 9,
   "metadata": {},
   "outputs": [],
   "source": [
    "# kbllm libraries\n",
    "from kbllm.kb.base import Patient\n",
    "\n",
    "\n",
    "def transform_to_patient(result: Tuple) -> Patient:\n",
    "    \"\"\"\n",
    "    Transforms a tuple of results into a Patient object.\n",
    "\n",
    "    Args:\n",
    "        result (Tuple): Raw results from the database.\n",
    "\n",
    "    Returns:\n",
    "        Diagnosis: Patient object.\n",
    "    \"\"\"\n",
    "    return Patient(name=result[0], MRN=result[1])"
   ]
  },
  {
   "cell_type": "code",
   "execution_count": 10,
   "metadata": {},
   "outputs": [],
   "source": [
    "diagnoses_name = \"Eczema\"\n",
    "\n",
    "query_string = f\"\"\"\n",
    "    MATCH (d:Diagnosis {{name: \"{diagnoses_name}\"}})<-[:HAS_DIAGNOSIS]-(e:Encounter)<-[:HAD_ENCOUNTER]-(p:Patient)\n",
    "    RETURN p.name AS Patient_Name, p.MRN AS MRN\n",
    "\"\"\""
   ]
  },
  {
   "cell_type": "code",
   "execution_count": 12,
   "metadata": {},
   "outputs": [
    {
     "name": "stdout",
     "output_type": "stream",
     "text": [
      "[Patient(name='Alice Smith', MRN='10001'), Patient(name='Charlie Williams', MRN='10003')]\n"
     ]
    }
   ],
   "source": [
    "eczema_diagnoses = query(query_string, transform_to_patient)\n",
    "print(eczema_diagnoses)"
   ]
  },
  {
   "cell_type": "markdown",
   "metadata": {},
   "source": [
    "Now we can programmatically interact with the patients that have been diagnosed with ezcema.\n",
    "\n",
    "Finally, let's explore which providers diagnosed those patients with ezcema."
   ]
  },
  {
   "cell_type": "code",
   "execution_count": 26,
   "metadata": {},
   "outputs": [],
   "source": [
    "# kbllm libraries\n",
    "from kbllm.kb.base import Provider\n",
    "\n",
    "\n",
    "def transform_to_provider(result: Tuple) -> Provider:\n",
    "    \"\"\"\n",
    "    Transforms a tuple of results into a Provider object.\n",
    "\n",
    "    Args:\n",
    "        result (Tuple): Raw results from the database.\n",
    "\n",
    "    Returns:\n",
    "        Diagnosis: Provider object.\n",
    "    \"\"\"\n",
    "    return Provider(name=result[0], id=result[1], type=result[2], specialty=result[3])"
   ]
  },
  {
   "cell_type": "code",
   "execution_count": 32,
   "metadata": {},
   "outputs": [],
   "source": [
    "diagnoses_name = \"Eczema\"\n",
    "\n",
    "query_string = f\"\"\"\n",
    "    MATCH (d:Diagnosis {{name: \"{diagnoses_name}\"}})<-[:HAS_DIAGNOSIS]-(e:Encounter)<-[:PROVIDED_ENCOUNTER]-(pr:Provider) \n",
    "    RETURN pr.name AS Provider_Name, pr.id AS Provider_ID, pr.type AS Type, pr.specialty AS Specialty\n",
    "\"\"\""
   ]
  },
  {
   "cell_type": "code",
   "execution_count": 33,
   "metadata": {},
   "outputs": [
    {
     "name": "stdout",
     "output_type": "stream",
     "text": [
      "[Provider(name='Dr. Mike Blue', id='4444444444', type='Doctor', specialty='Dermatology'), Provider(name='Dr. Cornelius', id='6666666666', type='Doctor', specialty='General Medicine')]\n"
     ]
    }
   ],
   "source": [
    "eczema_providers = query(query_string, transform_to_provider)\n",
    "print(eczema_providers)"
   ]
  },
  {
   "cell_type": "markdown",
   "metadata": {},
   "source": [
    "And there we have it, a way to programmatically interact with the Memgraph database. Feel free to try out your own queries. You'll need to define your own `Callable` to format the output."
   ]
  },
  {
   "cell_type": "code",
   "execution_count": null,
   "metadata": {},
   "outputs": [],
   "source": []
  }
 ],
 "metadata": {
  "kernelspec": {
   "display_name": "venv",
   "language": "python",
   "name": "python3"
  },
  "language_info": {
   "codemirror_mode": {
    "name": "ipython",
    "version": 3
   },
   "file_extension": ".py",
   "mimetype": "text/x-python",
   "name": "python",
   "nbconvert_exporter": "python",
   "pygments_lexer": "ipython3",
   "version": "3.10.12"
  },
  "orig_nbformat": 4
 },
 "nbformat": 4,
 "nbformat_minor": 2
}
